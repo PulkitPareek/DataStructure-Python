{
 "cells": [
  {
   "cell_type": "code",
   "execution_count": null,
   "metadata": {},
   "outputs": [],
   "source": [
    "def hprod3(arr):\n",
    "    \n",
    "    \n",
    "    min_prod_2 = max_prod_2 = arr[0] * arr[1]\n",
    "    highest = arr[0]\n",
    "    highest_prod_3\n",
    "    \n",
    "    for x in arr[2:]:\n",
    "        \n",
    "        highest_prod_3 = max(higest_prod_3,max_prod_2 * x, min_prod_2 * x)\n",
    "        max_prod_2 = max(max_prod_2, highest * x, min_prod_2 * x)\n",
    "        min_prod_2 = min(min_prod_2, highest * x, min_prod_2 * x)\n",
    "        highest = max(highest,x)"
   ]
  }
 ],
 "metadata": {
  "kernelspec": {
   "display_name": "Python 3",
   "language": "python",
   "name": "python3"
  },
  "language_info": {
   "codemirror_mode": {
    "name": "ipython",
    "version": 3
   },
   "file_extension": ".py",
   "mimetype": "text/x-python",
   "name": "python",
   "nbconvert_exporter": "python",
   "pygments_lexer": "ipython3",
   "version": "3.6.4"
  }
 },
 "nbformat": 4,
 "nbformat_minor": 2
}

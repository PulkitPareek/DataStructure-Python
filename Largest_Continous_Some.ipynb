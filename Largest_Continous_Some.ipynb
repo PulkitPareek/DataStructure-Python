{
 "cells": [
  {
   "cell_type": "code",
   "execution_count": 19,
   "metadata": {},
   "outputs": [],
   "source": [
    "def large_cont_sum(arr):\n",
    "    \n",
    "    if len(arr)==0:\n",
    "        return 0\n",
    "    \n",
    "    max_sum = curr_sum = start_point = end_point = arr[0]\n",
    "\n",
    "    for num in arr[1:]:\n",
    "        if ((curr_sum + num) < num):\n",
    "            start_point=num\n",
    "        curr_sum = max(curr_sum + num,num)\n",
    "        \n",
    "        max_sum = max(curr_sum , max_sum)\n",
    "        end_point = num\n",
    "    print('max_sum={},start_point={},end_point={}'.format(max_sum,start_point,end_point))\n",
    "    print(max_sum)"
   ]
  },
  {
   "cell_type": "code",
   "execution_count": 20,
   "metadata": {},
   "outputs": [
    {
     "name": "stdout",
     "output_type": "stream",
     "text": [
      "max_sum=19,start_point=2,end_point=7\n",
      "19\n"
     ]
    }
   ],
   "source": [
    "large_cont_sum([-1,2,3,-4,5,6,7])"
   ]
  },
  {
   "cell_type": "code",
   "execution_count": null,
   "metadata": {},
   "outputs": [],
   "source": []
  }
 ],
 "metadata": {
  "kernelspec": {
   "display_name": "Python 3",
   "language": "python",
   "name": "python3"
  },
  "language_info": {
   "codemirror_mode": {
    "name": "ipython",
    "version": 3
   },
   "file_extension": ".py",
   "mimetype": "text/x-python",
   "name": "python",
   "nbconvert_exporter": "python",
   "pygments_lexer": "ipython3",
   "version": "3.6.4"
  }
 },
 "nbformat": 4,
 "nbformat_minor": 2
}

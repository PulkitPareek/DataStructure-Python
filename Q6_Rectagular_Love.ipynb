{
 "cells": [
  {
   "cell_type": "code",
   "execution_count": 1,
   "metadata": {},
   "outputs": [],
   "source": [
    "r1 = {'x':4,}\n",
    "r2 = {'x':4}\n"
   ]
  },
  {
   "cell_type": "code",
   "execution_count": 3,
   "metadata": {},
   "outputs": [],
   "source": [
    "def calc_overlap(coord1,dim1,coord2,dim2):\n",
    "    greater = max(coord1,coord2)\n",
    "    lower = min(coord1+dim1,coord2+dim2)\n",
    "    \n",
    "    if greater >= lower:\n",
    "        return (None,None)\n",
    "    overlap = lower - greater\n",
    "    return(greater,overlap)\n",
    "\n",
    "\n",
    "\n",
    "def calc_rectangular_overlap(r1,r2):\n",
    "    \n",
    "    x_overlap,w_overlap = calc_overlap(r1[x],r1[w],r2[x],r2[w])\n",
    "    y_overlap,h_overlap = calc_overlap(r1[y],r1[h],r2[y],r2[h])\n",
    "    \n",
    "    if not h_overlap or not w_overlap:\n",
    "        print(\"No Overlap\")\n",
    "        return None\n",
    "    \n",
    "    return{'x':x_overlap,'y':y_overlap,'w':w_overlap,'h': h_overlap}\n",
    "    "
   ]
  },
  {
   "cell_type": "code",
   "execution_count": null,
   "metadata": {},
   "outputs": [],
   "source": []
  }
 ],
 "metadata": {
  "kernelspec": {
   "display_name": "Python 3",
   "language": "python",
   "name": "python3"
  },
  "language_info": {
   "codemirror_mode": {
    "name": "ipython",
    "version": 3
   },
   "file_extension": ".py",
   "mimetype": "text/x-python",
   "name": "python",
   "nbconvert_exporter": "python",
   "pygments_lexer": "ipython3",
   "version": "3.6.4"
  }
 },
 "nbformat": 4,
 "nbformat_minor": 2
}

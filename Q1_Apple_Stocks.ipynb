{
 "cells": [
  {
   "cell_type": "code",
   "execution_count": 4,
   "metadata": {},
   "outputs": [],
   "source": [
    "def profit(arr):\n",
    "    \n",
    "    if len(arr) < 2:\n",
    "        raise Exception('Getting a profit require atleast two prices')\n",
    "    \n",
    "    min_price = arr[0]\n",
    "    max_profit = arr[1] - arr[0]\n",
    "    for price in arr[1:]:\n",
    "    \n",
    "        max_profit = max(price - min_price,max_profit)\n",
    "        min_price = min(min_price, price)\n",
    "    return max_profit"
   ]
  },
  {
   "cell_type": "code",
   "execution_count": 5,
   "metadata": {},
   "outputs": [
    {
     "data": {
      "text/plain": [
       "7"
      ]
     },
     "execution_count": 5,
     "metadata": {},
     "output_type": "execute_result"
    }
   ],
   "source": [
    "stock_pricess = [23,10,3,10]\n",
    "profit(stock_pricess)"
   ]
  },
  {
   "cell_type": "markdown",
   "metadata": {},
   "source": [
    "This one's a good example of the greedy ↴ approach in action. Greedy approaches are great because they're fast (usually just one pass through the input). But they don't work for every problem.\n",
    "\n",
    "How do you know if a problem will lend itself to a greedy approach? Best bet is to try it out and see if it works. Trying out a greedy approach should be one of the first ways you try to break down a new question.\n",
    "\n",
    "To try it on a new problem, start by asking yourself:\n",
    "\n",
    "\"Suppose we could come up with the answer in one pass through the input, by simply updating the 'best answer so far' as we went. What additional values would we need to keep updated as we looked at each item in our input, in order to be able to update the 'best answer so far' in constant time?\"\n",
    "\n",
    "In this case:\n",
    "\n",
    "The \"best answer so far\" is, of course, the max profit that we can get based on the prices we've seen so far.\n",
    "\n",
    "The \"additional value\" is the minimum price we've seen so far. If we keep that updated, we can use it to calculate the new max profit so far in constant time. The max profit is the larger of:\n",
    "\n",
    "The previous max profit\n",
    "The max profit we can get by selling now (the current price minus the minimum price seen so far)\n",
    "Try applying this greedy methodology to future questions."
   ]
  },
  {
   "cell_type": "markdown",
   "metadata": {},
   "source": []
  }
 ],
 "metadata": {
  "kernelspec": {
   "display_name": "Python 3",
   "language": "python",
   "name": "python3"
  }
 },
 "nbformat": 4,
 "nbformat_minor": 2
}

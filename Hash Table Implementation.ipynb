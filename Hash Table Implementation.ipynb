{
 "cells": [
  {
   "cell_type": "code",
   "execution_count": 1,
   "metadata": {},
   "outputs": [],
   "source": [
    "class HashTable(object):\n",
    "    \n",
    "    def __init__(self,size):\n",
    "        self.size = size\n",
    "        self.slots = [None] * self.size  #Initialize slots\n",
    "        self.data = [None] * self.size   #Initialize data\n",
    "        \n",
    "    def put(self,key,data):   \n",
    "        hashvalue = self.hashfunction(key,len(self.slots))        \n",
    "        if  self.slots[hashvalue] ==None:\n",
    "            self.slots[hashvalue] = key\n",
    "            self.data[hashvalue] = data\n",
    "        else: \n",
    "            if self.slots[hashvlaue] == key:\n",
    "                self.data[hashvalue] = data\n",
    "            else:\n",
    "                nextslot = self.rehash(hashvalue,len(self.slots))\n",
    "                \n",
    "                while self.slots[nextslot] != None and self.slots[nextslot]!= key:\n",
    "                    nextslot = self.rehash(nextslot,len(self.slots))\n",
    "                if self.slots[nextslot] == None:\n",
    "                    self.slots[nextslot] = key\n",
    "                    self.slots[nextslot] = data\n",
    "                else:\n",
    "                    self.data[hashvalue] = data\n",
    "                    \n",
    "    def hashfunction(self,key,size):\n",
    "        return key%size\n",
    "    \n",
    "    def rehash(self,oldhash,size):\n",
    "        return (oldhash+1)%size\n",
    "    \n",
    "    def get(self,key):\n",
    "        \n",
    "        startslot = self.hasfunction(key,len(self.slots))\n",
    "        found = False\n",
    "        stop = False\n",
    "        data = None\n",
    "        position = startslot\n",
    "        \n",
    "        while position != None and not found and not stop:\n",
    "            #1572857321\n",
    "            if self.slots[position] == key:\n",
    "                found = True\n",
    "                data = self.data[position]\n",
    "            else:\n",
    "                position = self.rehash(position,len(self.slots))\n",
    "                if position == startslot:\n",
    "                    stop = True\n",
    "                    \n",
    "            return data\n",
    "    \n",
    "    def __getitem__(self,key):\n",
    "        return self.get(key):\n",
    "        \n",
    "    def __setitem__(self,key,data):\n",
    "        self.put(key,data)"
   ]
  },
  {
   "cell_type": "code",
   "execution_count": null,
   "metadata": {},
   "outputs": [],
   "source": []
  }
 ],
 "metadata": {
  "kernelspec": {
   "display_name": "Python 3",
   "language": "python",
   "name": "python3"
  },
  "language_info": {
   "codemirror_mode": {
    "name": "ipython",
    "version": 3
   },
   "file_extension": ".py",
   "mimetype": "text/x-python",
   "name": "python",
   "nbconvert_exporter": "python",
   "pygments_lexer": "ipython3",
   "version": "3.6.4"
  }
 },
 "nbformat": 4,
 "nbformat_minor": 2
}

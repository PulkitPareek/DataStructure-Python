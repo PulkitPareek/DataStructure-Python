{
 "cells": [
  {
   "cell_type": "code",
   "execution_count": 13,
   "metadata": {},
   "outputs": [],
   "source": [
    "def rev_words(st):\n",
    "    return ' '.join(reversed(st.split()))\n",
    "\n",
    "#or\n",
    "\n",
    "def rev_words1(st):\n",
    "    return ' '.join(st.split()[::-1])\n",
    "    "
   ]
  },
  {
   "cell_type": "code",
   "execution_count": 14,
   "metadata": {},
   "outputs": [
    {
     "data": {
      "text/plain": [
       "'you are ho hi'"
      ]
     },
     "execution_count": 14,
     "metadata": {},
     "output_type": "execute_result"
    }
   ],
   "source": [
    "rev_words(' hi ho are you')"
   ]
  },
  {
   "cell_type": "code",
   "execution_count": 50,
   "metadata": {},
   "outputs": [],
   "source": [
    "def rev_words3(st):\n",
    "    \n",
    "    rev_wd= ''\n",
    "    words = []\n",
    "    space = [' ']\n",
    "    \n",
    "    i = 0\n",
    "    while i < len(st):\n",
    "        if st[i] not in space:\n",
    "            word_start = i\n",
    "            while i < len(st) and st[i] not in space:\n",
    "                i += 1\n",
    "            words.append(st[word_start:i])\n",
    "        i += 1\n",
    "    \n",
    "    for i in range(len(words)):\n",
    "        rev_wd += ' ' + words[-i-1]\n",
    "        \n",
    "    return rev_wd.strip()\n",
    "    "
   ]
  },
  {
   "cell_type": "code",
   "execution_count": 51,
   "metadata": {},
   "outputs": [
    {
     "data": {
      "text/plain": [
       "'you are ho hi'"
      ]
     },
     "execution_count": 51,
     "metadata": {},
     "output_type": "execute_result"
    }
   ],
   "source": [
    "rev_words3(' hi ho are you')"
   ]
  },
  {
   "cell_type": "code",
   "execution_count": null,
   "metadata": {},
   "outputs": [],
   "source": []
  }
 ],
 "metadata": {
  "kernelspec": {
   "display_name": "Python 3",
   "language": "python",
   "name": "python3"
  },
  "language_info": {
   "codemirror_mode": {
    "name": "ipython",
    "version": 3
   },
   "file_extension": ".py",
   "mimetype": "text/x-python",
   "name": "python",
   "nbconvert_exporter": "python",
   "pygments_lexer": "ipython3",
   "version": "3.6.4"
  }
 },
 "nbformat": 4,
 "nbformat_minor": 2
}

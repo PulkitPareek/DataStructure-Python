{
 "cells": [
  {
   "cell_type": "code",
   "execution_count": 2,
   "metadata": {},
   "outputs": [],
   "source": [
    "def seq_search(arr,n):\n",
    "    pos = 0\n",
    "    found = False\n",
    "    while pos < len(arr) and not found:\n",
    "        \n",
    "        if arr[pos]==n:\n",
    "            found = True\n",
    "        else:\n",
    "            pos+=1\n",
    "    return found"
   ]
  },
  {
   "cell_type": "code",
   "execution_count": 3,
   "metadata": {},
   "outputs": [
    {
     "data": {
      "text/plain": [
       "True"
      ]
     },
     "execution_count": 3,
     "metadata": {},
     "output_type": "execute_result"
    }
   ],
   "source": [
    "seq_search([1,2,3,4,5],3)"
   ]
  },
  {
   "cell_type": "code",
   "execution_count": 6,
   "metadata": {},
   "outputs": [],
   "source": [
    "def ord_seq_search(arr,n):\n",
    "    pos = 0\n",
    "    found = False\n",
    "    stopped = False\n",
    "    while pos < len(arr) and not found and not stopped:\n",
    "        \n",
    "        if arr[pos]==n:\n",
    "            found = True\n",
    "        else:\n",
    "            if arr[pos]>n:\n",
    "                stopped = True\n",
    "            else:\n",
    "                pos+=1\n",
    "                \n",
    "    return found"
   ]
  },
  {
   "cell_type": "code",
   "execution_count": 7,
   "metadata": {},
   "outputs": [
    {
     "data": {
      "text/plain": [
       "False"
      ]
     },
     "execution_count": 7,
     "metadata": {},
     "output_type": "execute_result"
    }
   ],
   "source": [
    "ord_seq_search([1,3,5,8,9],6)"
   ]
  },
  {
   "cell_type": "code",
   "execution_count": null,
   "metadata": {},
   "outputs": [],
   "source": []
  }
 ],
 "metadata": {
  "kernelspec": {
   "display_name": "Python 3",
   "language": "python",
   "name": "python3"
  },
  "language_info": {
   "codemirror_mode": {
    "name": "ipython",
    "version": 3
   },
   "file_extension": ".py",
   "mimetype": "text/x-python",
   "name": "python",
   "nbconvert_exporter": "python",
   "pygments_lexer": "ipython3",
   "version": "3.6.4"
  }
 },
 "nbformat": 4,
 "nbformat_minor": 2
}

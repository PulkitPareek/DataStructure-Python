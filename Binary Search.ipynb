{
 "cells": [
  {
   "cell_type": "code",
   "execution_count": 14,
   "metadata": {},
   "outputs": [],
   "source": [
    "def binary_search(arr,e):\n",
    "    \n",
    "    \n",
    "    first = 0\n",
    "    last = len(arr)-1\n",
    "    found = False\n",
    "    \n",
    "    while first <= last and not found:\n",
    "        \n",
    "        mid = (first + last)/2\n",
    "        \n",
    "        if arr[int(mid)] == e:\n",
    "            found = True\n",
    "        else:\n",
    "            if e < arr[int(mid)]:\n",
    "                last = mid - 1\n",
    "            else:\n",
    "                first = mid + 1        \n",
    "    return found"
   ]
  },
  {
   "cell_type": "code",
   "execution_count": 16,
   "metadata": {},
   "outputs": [
    {
     "data": {
      "text/plain": [
       "False"
      ]
     },
     "execution_count": 16,
     "metadata": {},
     "output_type": "execute_result"
    }
   ],
   "source": [
    "binary_search([1,2,3,4,5,6,7],8)"
   ]
  },
  {
   "cell_type": "code",
   "execution_count": 17,
   "metadata": {},
   "outputs": [],
   "source": [
    "def rec_bin_search(arr,e):\n",
    "    \n",
    "    if len(arr)==0:\n",
    "        return False\n",
    "    \n",
    "    else:\n",
    "        mid = len(arr)/2\n",
    "        \n",
    "        if arr[mid]==e:\n",
    "            return True\n",
    "        \n",
    "        else:\n",
    "            if e < arr[mid]:\n",
    "                return rec_bin_search(arr[:mid],e)\n",
    "            else:\n",
    "                return rec_bin_search(arr[mid+1:],e)\n",
    "                \n",
    "                "
   ]
  },
  {
   "cell_type": "code",
   "execution_count": 13,
   "metadata": {},
   "outputs": [
    {
     "name": "stdout",
     "output_type": "stream",
     "text": [
      "3.5\n"
     ]
    }
   ],
   "source": [
    "x = len(a1)/2\n",
    "print(x)"
   ]
  },
  {
   "cell_type": "code",
   "execution_count": 21,
   "metadata": {},
   "outputs": [
    {
     "data": {
      "text/plain": [
       "7"
      ]
     },
     "execution_count": 21,
     "metadata": {},
     "output_type": "execute_result"
    }
   ],
   "source": [
    "a = [1,2,3,4,5,6,7]\n",
    "len(a)/2\n"
   ]
  },
  {
   "cell_type": "code",
   "execution_count": null,
   "metadata": {},
   "outputs": [],
   "source": []
  },
  {
   "cell_type": "code",
   "execution_count": null,
   "metadata": {},
   "outputs": [],
   "source": []
  }
 ],
 "metadata": {
  "kernelspec": {
   "display_name": "Python 3",
   "language": "python",
   "name": "python3"
  },
  "language_info": {
   "codemirror_mode": {
    "name": "ipython",
    "version": 3
   },
   "file_extension": ".py",
   "mimetype": "text/x-python",
   "name": "python",
   "nbconvert_exporter": "python",
   "pygments_lexer": "ipython3",
   "version": "3.6.4"
  }
 },
 "nbformat": 4,
 "nbformat_minor": 2
}
